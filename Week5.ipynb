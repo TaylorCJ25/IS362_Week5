{
 "cells": [
  {
   "cell_type": "markdown",
   "source": [
    "# IS 362 – Week 5 Assignment\n",
    "## Your task in this week’s assignment is to answer three questions:\n",
    "1. What is the northernmost airport in the United States?"
   ],
   "metadata": {
    "collapsed": false
   }
  },
  {
   "cell_type": "code",
   "execution_count": 6,
   "outputs": [
    {
     "data": {
      "text/plain": "      faa                                        name        lat         lon  \\\n417   EEN                     Dillant Hopkins Airport  72.270833   42.898333   \n230   BRW                  Wiley Post Will Rogers Mem  71.285446 -156.766003   \n110   AIN                          Wainwright Airport  70.638056 -159.994722   \n708   K03                               Wainwright As  70.613378 -159.860350   \n152   ATK  Atqasuk Edward Burnell Sr Memorial Airport  70.467300 -157.436000   \n1363  UUK                        Ugnu-Kuparuk Airport  70.330833 -149.597500   \n982   NUI                             Nuiqsut Airport  70.210000 -151.005556   \n1197  SCC                                   Deadhorse  70.194750 -148.465167   \n\n      alt  tz dst              tzone  \n417   149  -5   A                NaN  \n230    44  -9   A  America/Anchorage  \n110    41  -9   A  America/Anchorage  \n708    35  -9   A  America/Anchorage  \n152    96  -9   A  America/Anchorage  \n1363   67  -9   A  America/Anchorage  \n982    38  -9   A  America/Anchorage  \n1197   64  -9   A  America/Anchorage  ",
      "text/html": "<div>\n<style scoped>\n    .dataframe tbody tr th:only-of-type {\n        vertical-align: middle;\n    }\n\n    .dataframe tbody tr th {\n        vertical-align: top;\n    }\n\n    .dataframe thead th {\n        text-align: right;\n    }\n</style>\n<table border=\"1\" class=\"dataframe\">\n  <thead>\n    <tr style=\"text-align: right;\">\n      <th></th>\n      <th>faa</th>\n      <th>name</th>\n      <th>lat</th>\n      <th>lon</th>\n      <th>alt</th>\n      <th>tz</th>\n      <th>dst</th>\n      <th>tzone</th>\n    </tr>\n  </thead>\n  <tbody>\n    <tr>\n      <th>417</th>\n      <td>EEN</td>\n      <td>Dillant Hopkins Airport</td>\n      <td>72.270833</td>\n      <td>42.898333</td>\n      <td>149</td>\n      <td>-5</td>\n      <td>A</td>\n      <td>NaN</td>\n    </tr>\n    <tr>\n      <th>230</th>\n      <td>BRW</td>\n      <td>Wiley Post Will Rogers Mem</td>\n      <td>71.285446</td>\n      <td>-156.766003</td>\n      <td>44</td>\n      <td>-9</td>\n      <td>A</td>\n      <td>America/Anchorage</td>\n    </tr>\n    <tr>\n      <th>110</th>\n      <td>AIN</td>\n      <td>Wainwright Airport</td>\n      <td>70.638056</td>\n      <td>-159.994722</td>\n      <td>41</td>\n      <td>-9</td>\n      <td>A</td>\n      <td>America/Anchorage</td>\n    </tr>\n    <tr>\n      <th>708</th>\n      <td>K03</td>\n      <td>Wainwright As</td>\n      <td>70.613378</td>\n      <td>-159.860350</td>\n      <td>35</td>\n      <td>-9</td>\n      <td>A</td>\n      <td>America/Anchorage</td>\n    </tr>\n    <tr>\n      <th>152</th>\n      <td>ATK</td>\n      <td>Atqasuk Edward Burnell Sr Memorial Airport</td>\n      <td>70.467300</td>\n      <td>-157.436000</td>\n      <td>96</td>\n      <td>-9</td>\n      <td>A</td>\n      <td>America/Anchorage</td>\n    </tr>\n    <tr>\n      <th>1363</th>\n      <td>UUK</td>\n      <td>Ugnu-Kuparuk Airport</td>\n      <td>70.330833</td>\n      <td>-149.597500</td>\n      <td>67</td>\n      <td>-9</td>\n      <td>A</td>\n      <td>America/Anchorage</td>\n    </tr>\n    <tr>\n      <th>982</th>\n      <td>NUI</td>\n      <td>Nuiqsut Airport</td>\n      <td>70.210000</td>\n      <td>-151.005556</td>\n      <td>38</td>\n      <td>-9</td>\n      <td>A</td>\n      <td>America/Anchorage</td>\n    </tr>\n    <tr>\n      <th>1197</th>\n      <td>SCC</td>\n      <td>Deadhorse</td>\n      <td>70.194750</td>\n      <td>-148.465167</td>\n      <td>64</td>\n      <td>-9</td>\n      <td>A</td>\n      <td>America/Anchorage</td>\n    </tr>\n  </tbody>\n</table>\n</div>"
     },
     "execution_count": 6,
     "metadata": {},
     "output_type": "execute_result"
    }
   ],
   "source": [
    "import pandas as pd\n",
    "airports = pd.read_csv(\"https://raw.githubusercontent.com/tidyverse/nycflights13/main/data-raw/airports.csv\")\n",
    "airports.head()\n",
    "airports.sort_values(\"lat\", ascending=False).head(8)"
   ],
   "metadata": {
    "collapsed": false,
    "pycharm": {
     "name": "#%%\n"
    }
   }
  },
  {
   "cell_type": "markdown",
   "source": [
    "### According to the data collected from the csv file Dillant Hopkins Airport is the northernmost airport. However, upon fact checking it appears the latitude and longitude displayed is incorrect, with Dillant actually have a latitude of 42 and Longitude of -72. In comparison, Wiley Post, the actually northernmost airport, has as latitude of 35 and longitude of -95. The csv file seems to have a discrepancy regarding its inputted data."
   ],
   "metadata": {
    "collapsed": false
   }
  },
  {
   "cell_type": "markdown",
   "source": [
    "2. What is the easternmost airport in the United States?"
   ],
   "metadata": {
    "collapsed": false,
    "pycharm": {
     "name": "#%% md\n"
    }
   }
  },
  {
   "cell_type": "code",
   "execution_count": 7,
   "outputs": [
    {
     "data": {
      "text/plain": "      faa                                 name        lat        lon   alt  \\\n1398  WFK  Northern Aroostook Regional Airport  47.285556 -68.312778   988   \n259   CAR                         Caribou Muni  46.871500 -68.017917   626   \n1101  PQI  Northern Maine Rgnl At Presque Isle  46.688958 -68.044797   534   \n624   HUL                         Houlton Intl  46.123083 -67.792056   489   \n894   MLT                     Millinocket Muni  45.647836 -68.685561   408   \n923   MSS            Massena Intl Richards Fld  44.935833 -74.845547   215   \n444   EPM           Eastport Municipal Airport  44.910111 -67.012694    45   \n191   BGR                          Bangor Intl  44.807444 -68.828139   192   \n1053  PBG                     Plattsburgh Intl  44.650944 -73.468139   234   \n933   MVL      Morrisville Stowe State Airport  44.535000 -72.614000   732   \n236   BTV                      Burlington Intl  44.471861 -73.153278   335   \n192   BHB          Hancock County - Bar Harbor  44.449769 -68.361565    83   \n1240  SLK          Adirondack Regional Airport  44.385300 -74.206200  1663   \n157   AUG                        Augusta State  44.320647 -69.797317   352   \n799   LKP                  Lake Placid Airport  44.264444 -73.961944  1747   \n910   MPV                 Edward F Knapp State  44.203503 -72.562328  1165   \n856   ME5                        Banks Airport  44.165389 -68.428167   100   \n1155  RKD         Knox County Regional Airport  44.060111 -69.099230    56   \n781   LEW                       Lewiston Maine  44.048473 -70.283507   288   \n\n      tz dst             tzone  \n1398  -5   A  America/New_York  \n259   -5   A  America/New_York  \n1101  -5   A  America/New_York  \n624   -5   A  America/New_York  \n894   -5   A  America/New_York  \n923   -5   A  America/New_York  \n444   -5   A  America/New_York  \n191   -5   A  America/New_York  \n1053  -5   A  America/New_York  \n933   -5   A  America/New_York  \n236   -5   A  America/New_York  \n192   -5   A  America/New_York  \n1240  -5   A  America/New_York  \n157   -5   A  America/New_York  \n799   -5   A  America/New_York  \n910   -5   A  America/New_York  \n856   -5   A  America/New_York  \n1155  -5   A  America/New_York  \n781   -5   A  America/New_York  ",
      "text/html": "<div>\n<style scoped>\n    .dataframe tbody tr th:only-of-type {\n        vertical-align: middle;\n    }\n\n    .dataframe tbody tr th {\n        vertical-align: top;\n    }\n\n    .dataframe thead th {\n        text-align: right;\n    }\n</style>\n<table border=\"1\" class=\"dataframe\">\n  <thead>\n    <tr style=\"text-align: right;\">\n      <th></th>\n      <th>faa</th>\n      <th>name</th>\n      <th>lat</th>\n      <th>lon</th>\n      <th>alt</th>\n      <th>tz</th>\n      <th>dst</th>\n      <th>tzone</th>\n    </tr>\n  </thead>\n  <tbody>\n    <tr>\n      <th>1398</th>\n      <td>WFK</td>\n      <td>Northern Aroostook Regional Airport</td>\n      <td>47.285556</td>\n      <td>-68.312778</td>\n      <td>988</td>\n      <td>-5</td>\n      <td>A</td>\n      <td>America/New_York</td>\n    </tr>\n    <tr>\n      <th>259</th>\n      <td>CAR</td>\n      <td>Caribou Muni</td>\n      <td>46.871500</td>\n      <td>-68.017917</td>\n      <td>626</td>\n      <td>-5</td>\n      <td>A</td>\n      <td>America/New_York</td>\n    </tr>\n    <tr>\n      <th>1101</th>\n      <td>PQI</td>\n      <td>Northern Maine Rgnl At Presque Isle</td>\n      <td>46.688958</td>\n      <td>-68.044797</td>\n      <td>534</td>\n      <td>-5</td>\n      <td>A</td>\n      <td>America/New_York</td>\n    </tr>\n    <tr>\n      <th>624</th>\n      <td>HUL</td>\n      <td>Houlton Intl</td>\n      <td>46.123083</td>\n      <td>-67.792056</td>\n      <td>489</td>\n      <td>-5</td>\n      <td>A</td>\n      <td>America/New_York</td>\n    </tr>\n    <tr>\n      <th>894</th>\n      <td>MLT</td>\n      <td>Millinocket Muni</td>\n      <td>45.647836</td>\n      <td>-68.685561</td>\n      <td>408</td>\n      <td>-5</td>\n      <td>A</td>\n      <td>America/New_York</td>\n    </tr>\n    <tr>\n      <th>923</th>\n      <td>MSS</td>\n      <td>Massena Intl Richards Fld</td>\n      <td>44.935833</td>\n      <td>-74.845547</td>\n      <td>215</td>\n      <td>-5</td>\n      <td>A</td>\n      <td>America/New_York</td>\n    </tr>\n    <tr>\n      <th>444</th>\n      <td>EPM</td>\n      <td>Eastport Municipal Airport</td>\n      <td>44.910111</td>\n      <td>-67.012694</td>\n      <td>45</td>\n      <td>-5</td>\n      <td>A</td>\n      <td>America/New_York</td>\n    </tr>\n    <tr>\n      <th>191</th>\n      <td>BGR</td>\n      <td>Bangor Intl</td>\n      <td>44.807444</td>\n      <td>-68.828139</td>\n      <td>192</td>\n      <td>-5</td>\n      <td>A</td>\n      <td>America/New_York</td>\n    </tr>\n    <tr>\n      <th>1053</th>\n      <td>PBG</td>\n      <td>Plattsburgh Intl</td>\n      <td>44.650944</td>\n      <td>-73.468139</td>\n      <td>234</td>\n      <td>-5</td>\n      <td>A</td>\n      <td>America/New_York</td>\n    </tr>\n    <tr>\n      <th>933</th>\n      <td>MVL</td>\n      <td>Morrisville Stowe State Airport</td>\n      <td>44.535000</td>\n      <td>-72.614000</td>\n      <td>732</td>\n      <td>-5</td>\n      <td>A</td>\n      <td>America/New_York</td>\n    </tr>\n    <tr>\n      <th>236</th>\n      <td>BTV</td>\n      <td>Burlington Intl</td>\n      <td>44.471861</td>\n      <td>-73.153278</td>\n      <td>335</td>\n      <td>-5</td>\n      <td>A</td>\n      <td>America/New_York</td>\n    </tr>\n    <tr>\n      <th>192</th>\n      <td>BHB</td>\n      <td>Hancock County - Bar Harbor</td>\n      <td>44.449769</td>\n      <td>-68.361565</td>\n      <td>83</td>\n      <td>-5</td>\n      <td>A</td>\n      <td>America/New_York</td>\n    </tr>\n    <tr>\n      <th>1240</th>\n      <td>SLK</td>\n      <td>Adirondack Regional Airport</td>\n      <td>44.385300</td>\n      <td>-74.206200</td>\n      <td>1663</td>\n      <td>-5</td>\n      <td>A</td>\n      <td>America/New_York</td>\n    </tr>\n    <tr>\n      <th>157</th>\n      <td>AUG</td>\n      <td>Augusta State</td>\n      <td>44.320647</td>\n      <td>-69.797317</td>\n      <td>352</td>\n      <td>-5</td>\n      <td>A</td>\n      <td>America/New_York</td>\n    </tr>\n    <tr>\n      <th>799</th>\n      <td>LKP</td>\n      <td>Lake Placid Airport</td>\n      <td>44.264444</td>\n      <td>-73.961944</td>\n      <td>1747</td>\n      <td>-5</td>\n      <td>A</td>\n      <td>America/New_York</td>\n    </tr>\n    <tr>\n      <th>910</th>\n      <td>MPV</td>\n      <td>Edward F Knapp State</td>\n      <td>44.203503</td>\n      <td>-72.562328</td>\n      <td>1165</td>\n      <td>-5</td>\n      <td>A</td>\n      <td>America/New_York</td>\n    </tr>\n    <tr>\n      <th>856</th>\n      <td>ME5</td>\n      <td>Banks Airport</td>\n      <td>44.165389</td>\n      <td>-68.428167</td>\n      <td>100</td>\n      <td>-5</td>\n      <td>A</td>\n      <td>America/New_York</td>\n    </tr>\n    <tr>\n      <th>1155</th>\n      <td>RKD</td>\n      <td>Knox County Regional Airport</td>\n      <td>44.060111</td>\n      <td>-69.099230</td>\n      <td>56</td>\n      <td>-5</td>\n      <td>A</td>\n      <td>America/New_York</td>\n    </tr>\n    <tr>\n      <th>781</th>\n      <td>LEW</td>\n      <td>Lewiston Maine</td>\n      <td>44.048473</td>\n      <td>-70.283507</td>\n      <td>288</td>\n      <td>-5</td>\n      <td>A</td>\n      <td>America/New_York</td>\n    </tr>\n  </tbody>\n</table>\n</div>"
     },
     "execution_count": 7,
     "metadata": {},
     "output_type": "execute_result"
    }
   ],
   "source": [
    "df = pd.read_csv('https://raw.githubusercontent.com/tidyverse/nycflights13/main/data-raw/airports.csv')\n",
    "northeast_airports = df[(df['lat'] > 44) & (df['lat'] <= 50) & (df['lon'] >= -75) & (df['lon'] <= -65)]\n",
    "northeast_airports.sort_values('lat', ascending=False)\n"
   ],
   "metadata": {
    "collapsed": false,
    "pycharm": {
     "name": "#%%\n"
    }
   }
  },
  {
   "cell_type": "markdown",
   "source": [
    "### According to the data Northern Aroostook Regional Airport is the easternmost airport in the United States. Double-checking this fact Northern Aroostook Regional Airport latitude is 47 and its longitude in -68, matching the exported data set. However, as of 2022 Lubec Municipal Airport is the easternmost airport with a latitude of 44 and longitude of -67. As mentioned on the town of Lubec, Maine website: https://townoflubec.com/airport/#:~:text=Lubec%20Municipal%20Airport%20is%20the,turf%20which%20is%20maintained%20seasonally."
   ],
   "metadata": {
    "collapsed": false
   }
  },
  {
   "cell_type": "markdown",
   "source": [
    "3. On February 12th, 2013, which New York area airport had the windiest weather?"
   ],
   "metadata": {
    "collapsed": false
   }
  },
  {
   "cell_type": "code",
   "execution_count": 8,
   "outputs": [
    {
     "data": {
      "text/plain": "      origin  year  month  day  hour   temp   dewp  humid  wind_dir  \\\n1009     EWR  2013      2   12     3  39.02  26.96  61.63     260.0   \n18417    LGA  2013      2   12     2  42.98  26.06  50.94     290.0   \n1018     EWR  2013      2   12    12  44.06  26.06  48.87     270.0   \n18428    LGA  2013      2   12    13  44.06  23.00  43.02     300.0   \n18429    LGA  2013      2   12    14  44.06  23.00  43.02     300.0   \n...      ...   ...    ...  ...   ...    ...    ...    ...       ...   \n1006     EWR  2013      2   12     0  39.92  39.02  96.55     240.0   \n1027     EWR  2013      2   12    21  35.96  24.08  61.67     300.0   \n18415    LGA  2013      2   12     0  42.08  37.40  86.89       NaN   \n9709     JFK  2013      2   12     0  42.08  37.04  82.17     280.0   \n1029     EWR  2013      2   12    23  35.96  23.00  58.94     250.0   \n\n       wind_speed  wind_gust  precip  pressure  visib             time_hour  \n1009   1048.36058        NaN     0.0    1008.3   10.0  2013-02-12T08:00:00Z  \n18417    23.01560   31.07106     0.0    1007.1   10.0  2013-02-12T07:00:00Z  \n1018     21.86482   31.07106     0.0    1012.5   10.0  2013-02-12T17:00:00Z  \n18428    21.86482   25.31716     0.0    1011.7   10.0  2013-02-12T18:00:00Z  \n18429    20.71404   25.31716     0.0    1011.5   10.0  2013-02-12T19:00:00Z  \n...           ...        ...     ...       ...    ...                   ...  \n1006      6.90468        NaN     0.0    1006.9   10.0  2013-02-12T05:00:00Z  \n1027      5.75390        NaN     0.0    1013.0   10.0  2013-02-13T02:00:00Z  \n18415     4.60312        NaN     0.0       NaN   10.0  2013-02-12T05:00:00Z  \n9709      4.60312        NaN     0.0    1007.1   10.0  2013-02-12T05:00:00Z  \n1029      4.60312        NaN     0.0    1013.7   10.0  2013-02-13T04:00:00Z  \n\n[72 rows x 15 columns]",
      "text/html": "<div>\n<style scoped>\n    .dataframe tbody tr th:only-of-type {\n        vertical-align: middle;\n    }\n\n    .dataframe tbody tr th {\n        vertical-align: top;\n    }\n\n    .dataframe thead th {\n        text-align: right;\n    }\n</style>\n<table border=\"1\" class=\"dataframe\">\n  <thead>\n    <tr style=\"text-align: right;\">\n      <th></th>\n      <th>origin</th>\n      <th>year</th>\n      <th>month</th>\n      <th>day</th>\n      <th>hour</th>\n      <th>temp</th>\n      <th>dewp</th>\n      <th>humid</th>\n      <th>wind_dir</th>\n      <th>wind_speed</th>\n      <th>wind_gust</th>\n      <th>precip</th>\n      <th>pressure</th>\n      <th>visib</th>\n      <th>time_hour</th>\n    </tr>\n  </thead>\n  <tbody>\n    <tr>\n      <th>1009</th>\n      <td>EWR</td>\n      <td>2013</td>\n      <td>2</td>\n      <td>12</td>\n      <td>3</td>\n      <td>39.02</td>\n      <td>26.96</td>\n      <td>61.63</td>\n      <td>260.0</td>\n      <td>1048.36058</td>\n      <td>NaN</td>\n      <td>0.0</td>\n      <td>1008.3</td>\n      <td>10.0</td>\n      <td>2013-02-12T08:00:00Z</td>\n    </tr>\n    <tr>\n      <th>18417</th>\n      <td>LGA</td>\n      <td>2013</td>\n      <td>2</td>\n      <td>12</td>\n      <td>2</td>\n      <td>42.98</td>\n      <td>26.06</td>\n      <td>50.94</td>\n      <td>290.0</td>\n      <td>23.01560</td>\n      <td>31.07106</td>\n      <td>0.0</td>\n      <td>1007.1</td>\n      <td>10.0</td>\n      <td>2013-02-12T07:00:00Z</td>\n    </tr>\n    <tr>\n      <th>1018</th>\n      <td>EWR</td>\n      <td>2013</td>\n      <td>2</td>\n      <td>12</td>\n      <td>12</td>\n      <td>44.06</td>\n      <td>26.06</td>\n      <td>48.87</td>\n      <td>270.0</td>\n      <td>21.86482</td>\n      <td>31.07106</td>\n      <td>0.0</td>\n      <td>1012.5</td>\n      <td>10.0</td>\n      <td>2013-02-12T17:00:00Z</td>\n    </tr>\n    <tr>\n      <th>18428</th>\n      <td>LGA</td>\n      <td>2013</td>\n      <td>2</td>\n      <td>12</td>\n      <td>13</td>\n      <td>44.06</td>\n      <td>23.00</td>\n      <td>43.02</td>\n      <td>300.0</td>\n      <td>21.86482</td>\n      <td>25.31716</td>\n      <td>0.0</td>\n      <td>1011.7</td>\n      <td>10.0</td>\n      <td>2013-02-12T18:00:00Z</td>\n    </tr>\n    <tr>\n      <th>18429</th>\n      <td>LGA</td>\n      <td>2013</td>\n      <td>2</td>\n      <td>12</td>\n      <td>14</td>\n      <td>44.06</td>\n      <td>23.00</td>\n      <td>43.02</td>\n      <td>300.0</td>\n      <td>20.71404</td>\n      <td>25.31716</td>\n      <td>0.0</td>\n      <td>1011.5</td>\n      <td>10.0</td>\n      <td>2013-02-12T19:00:00Z</td>\n    </tr>\n    <tr>\n      <th>...</th>\n      <td>...</td>\n      <td>...</td>\n      <td>...</td>\n      <td>...</td>\n      <td>...</td>\n      <td>...</td>\n      <td>...</td>\n      <td>...</td>\n      <td>...</td>\n      <td>...</td>\n      <td>...</td>\n      <td>...</td>\n      <td>...</td>\n      <td>...</td>\n      <td>...</td>\n    </tr>\n    <tr>\n      <th>1006</th>\n      <td>EWR</td>\n      <td>2013</td>\n      <td>2</td>\n      <td>12</td>\n      <td>0</td>\n      <td>39.92</td>\n      <td>39.02</td>\n      <td>96.55</td>\n      <td>240.0</td>\n      <td>6.90468</td>\n      <td>NaN</td>\n      <td>0.0</td>\n      <td>1006.9</td>\n      <td>10.0</td>\n      <td>2013-02-12T05:00:00Z</td>\n    </tr>\n    <tr>\n      <th>1027</th>\n      <td>EWR</td>\n      <td>2013</td>\n      <td>2</td>\n      <td>12</td>\n      <td>21</td>\n      <td>35.96</td>\n      <td>24.08</td>\n      <td>61.67</td>\n      <td>300.0</td>\n      <td>5.75390</td>\n      <td>NaN</td>\n      <td>0.0</td>\n      <td>1013.0</td>\n      <td>10.0</td>\n      <td>2013-02-13T02:00:00Z</td>\n    </tr>\n    <tr>\n      <th>18415</th>\n      <td>LGA</td>\n      <td>2013</td>\n      <td>2</td>\n      <td>12</td>\n      <td>0</td>\n      <td>42.08</td>\n      <td>37.40</td>\n      <td>86.89</td>\n      <td>NaN</td>\n      <td>4.60312</td>\n      <td>NaN</td>\n      <td>0.0</td>\n      <td>NaN</td>\n      <td>10.0</td>\n      <td>2013-02-12T05:00:00Z</td>\n    </tr>\n    <tr>\n      <th>9709</th>\n      <td>JFK</td>\n      <td>2013</td>\n      <td>2</td>\n      <td>12</td>\n      <td>0</td>\n      <td>42.08</td>\n      <td>37.04</td>\n      <td>82.17</td>\n      <td>280.0</td>\n      <td>4.60312</td>\n      <td>NaN</td>\n      <td>0.0</td>\n      <td>1007.1</td>\n      <td>10.0</td>\n      <td>2013-02-12T05:00:00Z</td>\n    </tr>\n    <tr>\n      <th>1029</th>\n      <td>EWR</td>\n      <td>2013</td>\n      <td>2</td>\n      <td>12</td>\n      <td>23</td>\n      <td>35.96</td>\n      <td>23.00</td>\n      <td>58.94</td>\n      <td>250.0</td>\n      <td>4.60312</td>\n      <td>NaN</td>\n      <td>0.0</td>\n      <td>1013.7</td>\n      <td>10.0</td>\n      <td>2013-02-13T04:00:00Z</td>\n    </tr>\n  </tbody>\n</table>\n<p>72 rows × 15 columns</p>\n</div>"
     },
     "execution_count": 8,
     "metadata": {},
     "output_type": "execute_result"
    }
   ],
   "source": [
    "speed = pd.read_csv(\"https://raw.githubusercontent.com/hadley/nycflights13/master/data-raw/weather.csv\")\n",
    "speed[(speed[\"month\"]==2) & (speed[\"day\"]==12) & (speed[\"year\"]==2013)].sort_values(\"wind_speed\", ascending=False)"
   ],
   "metadata": {
    "collapsed": false,
    "pycharm": {
     "name": "#%%\n"
    }
   }
  },
  {
   "cell_type": "markdown",
   "source": [
    "### According to the data EWR (Newark Liberty Internation) has the windiest weather with wind speeds reaching 1048.36058. However, this number is not plausible. This would make LGA (LaGuardia Airport) the airport with the most plausible windiest weather with winds reaching 23. "
   ],
   "metadata": {
    "collapsed": false,
    "pycharm": {
     "name": "#%% md\n"
    }
   }
  }
 ],
 "metadata": {
  "kernelspec": {
   "display_name": "Python 3",
   "language": "python",
   "name": "python3"
  },
  "language_info": {
   "codemirror_mode": {
    "name": "ipython",
    "version": 2
   },
   "file_extension": ".py",
   "mimetype": "text/x-python",
   "name": "python",
   "nbconvert_exporter": "python",
   "pygments_lexer": "ipython2",
   "version": "2.7.6"
  }
 },
 "nbformat": 4,
 "nbformat_minor": 0
}